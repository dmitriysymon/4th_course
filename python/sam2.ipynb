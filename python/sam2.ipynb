{
 "cells": [
  {
   "cell_type": "markdown",
   "id": "a1ff3d98-9ae9-4c6a-8912-3ddb2287a278",
   "metadata": {},
   "source": [
    "# Самостійна робота №1\n",
    "## Виконав Симон Дмитрій\n",
    "\n",
    "### Тема: Функції, модулі та основи ООП. Робота з NumPy\n",
    "\n",
    "### Мета:\n",
    "Навчитися працювати з елементами аналітичного коду, що повторюється. Вивчити основи модулю NumPy.\n",
    "\n",
    "### Завдання 1. Функції Python\n",
    "1. Напишіть функцію на Python, яка приймає список вхідних даних та використовує базові модулі та функції Python для обчислення середнього, медіани, моди, дисперсії, стандартного відхилення та квартилів. Функція повинна повертати значення відповідного показника описової статистики та друкувати обчислені результати.\n",
    "2. У подальшому програма повинна створювати два списки чисел, один для ВВП на душу населення та інший для інфляційної ставки, і передавати їх у функції.\n",
    "\n",
    "### Завдання 2. Модулі Python\n",
    "1. Створіть модуль, який включає функцію для обчислення показників описової статистики з Завдання 1. Імпортуйте цей модуль для обчислення середнього ВВП на душу населення. Відповідні економічні показники необхідно створити шляхом генерації відповідних випадкових величин: ВВП та чисельність населення.\n",
    "2. В результати роботи програми необхідно отримати показники описової статистики для 3 змінних: ВВП на душу населення, ВВП та чисельність населення.\n",
    "\n",
    "### Завдання 3. Об'єктно-орієнтоване програмування\n",
    "1. Створіть клас під назвою DescriptiveStatistics, який представляє функціональність раніше створеного модуля. Клас повинен мати методи для обчислення середнього, медіани, моди, дисперсії, стандартного відхилення, квартилів та коефіцієнта варіації для вхідних даних, використовуючи лише базові модулі.\n",
    "2. Включіть до відповідного класу метод .fit, що розраховує всі показники описової статистики у межах відповідних атрибутів та метод .summary, що повертає розраховані показники описової статистики.\n",
    "3. Використовуйте методи екземпляру для обчислення описової статистики для попередньо згенерованих даних.\n",
    "4. Створіть новий клас, що є нащадком класу DescriptiveStatistics, наприклад, для розрахунку середньої зваженої та наведіть приклад його застосування.\n",
    "\n",
    "### Завдання 4. Випадкові величини, математичні та статистичні операції з використанням NumPy\n",
    "Напишіть програму на Python, яка генерує випадкову вибірку ВВП та чисельності населення, порахуйте ВВП на душу населення для 100 країн за допомогою NumPy. Обчисліть середнє, медіану та стандартне відхилення вибірки за допомогою функцій NumPy. Надрукуйте результати. Порівняйте ефективність функцій numpy та random.\n",
    "\n",
    "### Завдання 5. Операції з масивами (математичні операції та маніпуляції даними)\n",
    "Напишіть програму на Python, яка сортує економічні дані за ВВП на душу населення у порядку спадання за допомогою NumPy. Використовуйте функцію argsort() для отримання індексів, які сортуватимуть масив, та використовуйте їх для сортування масиву у порядку спадання. Використовуйте зріз для друку п'яти країн з найвищим ВВП на душу населення разом з відповідними інфляційними ставками. Розглянете інші функції роботи з масивами (розрахунок визначальника матриці, кореляційної матриці, відбір даних за значенням тощо).\n",
    "\n",
    "### Завдання 6. Операції з файлами у NumPy\n",
    "Напишіть код Python, що зберігає економічні дані з попередніх завдань у файл CSV за допомогою NumPy. Використовуйте функцію savetxt() для запису даних у файл з заголовками стовпців для назв країн, ВВП на душу населення та інфляційних ставок. Включіть обробку помилок для операцій введення або виведення файлiв"
   ]
  },
  {
   "cell_type": "markdown",
   "id": "9062e739-01cf-4333-b68d-07ab2d3867a8",
   "metadata": {},
   "source": [
    "## Завдання 1"
   ]
  },
  {
   "cell_type": "code",
   "execution_count": 20,
   "id": "1d80928e-86c9-4771-aa93-049e4e536b02",
   "metadata": {},
   "outputs": [
    {
     "name": "stdout",
     "output_type": "stream",
     "text": [
      "Статистика ВВП: (7000, 7000, 5000, 2500000, 1581.1388300841897, [5500.0, 7000.0, 8500.0])\n",
      "Статистика інфляції: (2.62, 2.6, 2.5, 0.09199999999999994, 0.30331501776206193, [2.35, 2.6, 2.9])\n"
     ]
    }
   ],
   "source": [
    "import statistics\n",
    "\n",
    "def calculate_statistics(data):\n",
    "    mean = statistics.mean(data)\n",
    "    median = statistics.median(data)\n",
    "    mode = statistics.mode(data)\n",
    "    variance = statistics.variance(data)\n",
    "    stdev = statistics.stdev(data)\n",
    "    quartiles = statistics.quantiles(data, n=4)\n",
    "\n",
    "    return mean, median, mode, variance, stdev, quartiles\n",
    "\n",
    "# Приклад використання функції\n",
    "gdp_per_capita = [5000, 6000, 7000, 8000, 9000]\n",
    "inflation_rate = [2.5, 3.0, 2.8, 2.2, 2.6]\n",
    "\n",
    "gdp_stats = calculate_statistics(gdp_per_capita)\n",
    "inflation_stats = calculate_statistics(inflation_rate)\n",
    "\n",
    "print(\"Статистика ВВП:\", gdp_stats)\n",
    "print(\"Статистика інфляції:\", inflation_stats)"
   ]
  },
  {
   "cell_type": "markdown",
   "id": "3e4849b4-af02-4a0e-b8d8-8f8349baf4f6",
   "metadata": {},
   "source": [
    "## Завдання 2"
   ]
  },
  {
   "cell_type": "code",
   "execution_count": 17,
   "id": "ac24a52b-b9d7-4ba3-bfe0-0cae8cfff9bb",
   "metadata": {},
   "outputs": [
    {
     "name": "stdout",
     "output_type": "stream",
     "text": [
      "Статистика ВВП: (12775.28, 12284.5, 7886, 22075321.395555556, 4698.438186839916, [8596.75, 12284.5, 17415.5])\n",
      "Статистика населення: (5157873.52, 5296953.5, 7432720, 8263692113043.363, 2874663.8260922553, [2553836.25, 5296953.5, 7428483.75])\n"
     ]
    }
   ],
   "source": [
    "import random\n",
    "import statistics\n",
    "\n",
    "def calculate_statistics(data):\n",
    "    mean = statistics.mean(data)\n",
    "    median = statistics.median(data)\n",
    "    mode = statistics.mode(data)\n",
    "    variance = statistics.variance(data)\n",
    "    stdev = statistics.stdev(data)\n",
    "    quartiles = statistics.quantiles(data, n=4)\n",
    "\n",
    "    return mean, median, mode, variance, stdev, quartiles\n",
    "\n",
    "def generate_economic_data():\n",
    "    # Генеруємо випадкові дані для ВВП та чисельності населення\n",
    "    gdp_data = [random.randint(5000, 20000) for _ in range(100)]\n",
    "    population_data = [random.randint(100000, 10000000) for _ in range(100)]\n",
    "\n",
    "    # Обчислюємо показники описової статистики\n",
    "    gdp_stats = calculate_statistics(gdp_data)\n",
    "    population_stats = calculate_statistics(population_data)\n",
    "\n",
    "    return gdp_stats, population_stats\n",
    "\n",
    "# Приклад використання модуля для генерації та обчислення статистики\n",
    "if __name__ == \"__main__\":\n",
    "    gdp_stats, population_stats = generate_economic_data()\n",
    "    print(\"Статистика ВВП:\", gdp_stats)\n",
    "    print(\"Статистика населення:\", population_stats)\n"
   ]
  },
  {
   "cell_type": "markdown",
   "id": "933b4890-ae93-47e2-bf19-53888266f28f",
   "metadata": {},
   "source": [
    "## Завдання 3"
   ]
  },
  {
   "cell_type": "code",
   "execution_count": 18,
   "id": "8ac7ee89-1d43-4d64-8849-9ea96783e5bb",
   "metadata": {},
   "outputs": [
    {
     "name": "stdout",
     "output_type": "stream",
     "text": [
      "Описова статистика для звичайних даних:\n",
      "{'mean': 4, 'median': 4.5, 'mode': 5, 'variance': 3.7777777777777777, 'stdev': 1.9436506316151, 'quartiles': [2.0, 4.5, 5.25], 'coeff_of_variation': 0.485912657903775}\n",
      "\n",
      "Описова статистика для зважених даних:\n",
      "{'mean': 4, 'median': 4.5, 'mode': 5, 'variance': 3.7777777777777777, 'stdev': 1.9436506316151, 'quartiles': [2.0, 4.5, 5.25], 'coeff_of_variation': 0.485912657903775, 'weighted_mean': 3.833333333333333}\n"
     ]
    }
   ],
   "source": [
    "import statistics\n",
    "\n",
    "class DescriptiveStatistics:\n",
    "    def __init__(self, data):\n",
    "        self.data = data\n",
    "        self.mean = None\n",
    "        self.median = None\n",
    "        self.mode = None\n",
    "        self.variance = None\n",
    "        self.stdev = None\n",
    "        self.quartiles = None\n",
    "        self.coeff_of_variation = None\n",
    "    \n",
    "    def fit(self):\n",
    "        self.mean = statistics.mean(self.data)\n",
    "        self.median = statistics.median(self.data)\n",
    "        self.mode = statistics.mode(self.data)\n",
    "        self.variance = statistics.variance(self.data)\n",
    "        self.stdev = statistics.stdev(self.data)\n",
    "        self.quartiles = statistics.quantiles(self.data, n=4)\n",
    "        if self.mean != 0:\n",
    "            self.coeff_of_variation = self.stdev / self.mean\n",
    "        else:\n",
    "            self.coeff_of_variation = None\n",
    "    \n",
    "    def summary(self):\n",
    "        return {\n",
    "            \"mean\": self.mean,\n",
    "            \"median\": self.median,\n",
    "            \"mode\": self.mode,\n",
    "            \"variance\": self.variance,\n",
    "            \"stdev\": self.stdev,\n",
    "            \"quartiles\": self.quartiles,\n",
    "            \"coeff_of_variation\": self.coeff_of_variation\n",
    "        }\n",
    "\n",
    "class WeightedDescriptiveStatistics(DescriptiveStatistics):\n",
    "    def __init__(self, data, weights):\n",
    "        super().__init__(data)\n",
    "        self.weights = weights\n",
    "        self.weighted_mean = None\n",
    "    \n",
    "    def fit(self):\n",
    "        super().fit()\n",
    "        if len(self.data) != len(self.weights):\n",
    "            raise ValueError(\"Data and weights must have the same length\")\n",
    "        weighted_data = [x * w for x, w in zip(self.data, self.weights)]\n",
    "        self.weighted_mean = sum(weighted_data) / sum(self.weights)\n",
    "    \n",
    "    def summary(self):\n",
    "        summary_dict = super().summary()\n",
    "        summary_dict[\"weighted_mean\"] = self.weighted_mean\n",
    "        return summary_dict\n",
    "\n",
    "# Приклад використання\n",
    "data = [1, 2, 2, 3, 4, 5, 5, 5, 6, 7]\n",
    "weights = [0.1, 0.2, 0.1, 0.1, 0.2, 0.1, 0.1, 0.1, 0.1, 0.1]\n",
    "\n",
    "# Обчислюємо описову статистику для звичайних даних\n",
    "stats = DescriptiveStatistics(data)\n",
    "stats.fit()\n",
    "print(\"Описова статистика для звичайних даних:\")\n",
    "print(stats.summary())\n",
    "\n",
    "# Обчислюємо описову статистику для зважених даних\n",
    "weighted_stats = WeightedDescriptiveStatistics(data, weights)\n",
    "weighted_stats.fit()\n",
    "print(\"\\nОписова статистика для зважених даних:\")\n",
    "print(weighted_stats.summary())"
   ]
  },
  {
   "cell_type": "markdown",
   "id": "73e8cdf4-d465-4763-ac6b-62182ef8b695",
   "metadata": {},
   "source": [
    "## Завдання 4"
   ]
  },
  {
   "cell_type": "code",
   "execution_count": 25,
   "id": "12663082-2d08-4b16-981b-876deb9a331b",
   "metadata": {},
   "outputs": [
    {
     "name": "stdout",
     "output_type": "stream",
     "text": [
      "Середнє (NumPy): 0.11216322767646499\n",
      "Медіана (NumPy): 0.05773513364227685\n",
      "Стандартне відхилення (NumPy): 0.1613554303073887\n"
     ]
    }
   ],
   "source": [
    "import numpy as np\n",
    "\n",
    "# Генеруємо випадкові дані для ВВП та чисельності населення для 100 країн\n",
    "np.random.seed(0)  # Встановлюємо seed для відтворюваності результатів\n",
    "gdp = np.random.randint(1000, 50000, size=100)\n",
    "population = np.random.randint(10000, 1000000, size=100)\n",
    "\n",
    "# Обчислюємо ВВП на душу населення за допомогою NumPy\n",
    "gdp_per_capita = gdp / population\n",
    "\n",
    "# Обчислюємо середнє, медіану та стандартне відхилення за допомогою NumPy\n",
    "mean_numpy = np.mean(gdp_per_capita)\n",
    "median_numpy = np.median(gdp_per_capita)\n",
    "std_deviation_numpy = np.std(gdp_per_capita)\n",
    "\n",
    "# Виводимо результати\n",
    "print(\"Середнє (NumPy):\", mean_numpy)\n",
    "print(\"Медіана (NumPy):\", median_numpy)\n",
    "print(\"Стандартне відхилення (NumPy):\", std_deviation_numpy)"
   ]
  },
  {
   "cell_type": "code",
   "execution_count": 28,
   "id": "1f468ef7-5dbc-4b38-8dc3-f1d866b24cf6",
   "metadata": {},
   "outputs": [
    {
     "name": "stdout",
     "output_type": "stream",
     "text": [
      "\n",
      "Час виконання за допомогою random: 0.000000 секунд\n",
      "Час виконання за допомогою numpy: 0.000000 секунд\n"
     ]
    }
   ],
   "source": [
    "import time\n",
    "\n",
    "start_time = time.time()\n",
    "random_gdp = [random.randint(10, 10000) * 1e9 for _ in range(100)]\n",
    "random_population = [random.randint(1, 500) * 1e6 for _ in range(100)]\n",
    "random_gdp_per_capita = [gdp_i / pop_i for gdp_i, pop_i in zip(random_gdp, random_population)]\n",
    "random_mean = sum(random_gdp_per_capita) / len(random_gdp_per_capita)\n",
    "print(\"\\nЧас виконання за допомогою random: {:.6f} секунд\".format(time.time() - start_time))\n",
    "\n",
    "start_time = time.time()\n",
    "np_random_gdp = np.random.randint(10, 10000, size=100, dtype=int) * 1e9\n",
    "np_random_population = np.random.randint(1, 500, size=100, dtype=int) * 1e6\n",
    "np_random_gdp_per_capita = np_random_gdp / np_random_population\n",
    "np_random_mean = np.mean(np_random_gdp_per_capita)\n",
    "print(\"Час виконання за допомогою numpy: {:.6f} секунд\".format(time.time() - start_time))"
   ]
  },
  {
   "cell_type": "markdown",
   "id": "7fce1d00-e4f0-48e7-826c-11cf4c0e080c",
   "metadata": {},
   "source": [
    "## Завдання 5"
   ]
  },
  {
   "cell_type": "code",
   "execution_count": 27,
   "id": "7d5ba840-d29c-4cf4-b3be-eb0bae89082b",
   "metadata": {},
   "outputs": [
    {
     "name": "stdout",
     "output_type": "stream",
     "text": [
      "Топ-5 країн за ВВП на душу населення:\n",
      "Країна № 1 за ВВП на душу населення: 19838, рівень інфляції = 3.310172%\n",
      "Країна № 2 за ВВП на душу населення: 19780, рівень інфляції = 2.007764%\n",
      "Країна № 3 за ВВП на душу населення: 19705, рівень інфляції = 2.605038%\n",
      "Країна № 4 за ВВП на душу населення: 19691, рівень інфляції = 2.306804%\n",
      "Країна № 5 за ВВП на душу населення: 19473, рівень інфляції = 2.721610%\n"
     ]
    }
   ],
   "source": [
    "import numpy as np\n",
    "\n",
    "# Згенеруємо випадкові дані для ВВП на душу населення і інфляційних ставок\n",
    "countries = [\"Country\" + str(i) for i in range(1, 101)]\n",
    "gdp_per_capita = np.random.randint(5000, 20000, size=100)\n",
    "inflation_rate = np.random.uniform(1.0, 5.0, size=100)\n",
    "\n",
    "# Сортуємо за ВВП на душу населення\n",
    "sorted_indices = np.argsort(gdp_per_capita)[::-1]\n",
    "#top_5_countries = countries[sorted_indices[:5]]\n",
    "top_5_countries = [countries[i] for i in sorted_indices[:5]]\n",
    "top_5_gdp_per_capita = gdp_per_capita[sorted_indices[:5]]\n",
    "top_5_inflation_rate = inflation_rate[sorted_indices[:5]]\n",
    "\n",
    "print(\"Топ-5 країн за ВВП на душу населення:\")\n",
    "for i in range(5):\n",
    "    print(\"Країна № {} за ВВП на душу населення: {}, рівень інфляції = {:2f}%\".format(i+1, top_5_gdp_per_capita[i], top_5_inflation_rate[i]))"
   ]
  },
  {
   "cell_type": "markdown",
   "id": "2f5fcb0f-a041-430a-9ee1-07a0237fe4ad",
   "metadata": {},
   "source": [
    "## Завдання 6"
   ]
  },
  {
   "cell_type": "code",
   "execution_count": 26,
   "id": "1e659a0a-c93d-4ac2-9f62-05d3bef21116",
   "metadata": {},
   "outputs": [
    {
     "name": "stdout",
     "output_type": "stream",
     "text": [
      "Економічні дані збережено в 'economic_data.csv'.\n",
      "Country,GDP_per_Capita,Inflation_Rate\n",
      "Country1,5025,4.50\n",
      "Country2,14680,4.78\n",
      "Country3,5956,3.43\n",
      "Country4,6913,3.39\n",
      "Country5,7934,4.13\n",
      "Country6,18429,3.00\n",
      "Country7,14661,1.20\n",
      "Country8,18907,3.80\n",
      "Country9,7721,4.97\n",
      "Country10,15088,2.07\n",
      "Country11,5928,3.72\n",
      "Country12,10627,4.46\n",
      "Country13,16003,4.00\n",
      "Country14,11265,4.86\n",
      "Country15,10446,3.22\n",
      "Country16,5469,1.85\n",
      "Country17,15527,1.89\n",
      "Country18,13717,1.87\n",
      "Country19,6863,3.28\n",
      "Country20,6720,2.81\n",
      "Country21,10272,4.88\n",
      "Country22,5591,3.72\n",
      "Country23,11185,1.34\n",
      "Country24,7322,1.23\n",
      "Country25,16702,2.95\n",
      "Country26,5207,4.52\n",
      "Country27,9262,4.91\n",
      "Country28,19447,3.47\n",
      "Country29,8421,3.17\n",
      "Country30,17281,4.42\n",
      "Country31,10249,3.98\n",
      "Country32,15102,2.91\n",
      "Country33,16052,3.71\n",
      "Country34,13408,3.43\n",
      "Country35,13216,3.86\n",
      "Country36,17355,2.88\n",
      "Country37,16218,2.82\n",
      "Country38,10103,4.63\n",
      "Country39,12939,1.55\n",
      "Country40,7282,1.92\n",
      "Country41,6740,4.53\n",
      "Country42,11118,4.62\n",
      "Country43,17579,3.58\n",
      "Country44,10846,2.30\n",
      "Country45,18310,3.08\n",
      "Country46,8781,1.00\n",
      "Country47,7775,2.25\n",
      "Country48,7603,2.70\n",
      "Country49,19368,4.54\n",
      "Country50,12179,3.72\n",
      "Country51,18928,2.82\n",
      "Country52,11356,2.93\n",
      "Country53,6162,4.15\n",
      "Country54,19006,1.92\n",
      "Country55,17267,4.52\n",
      "Country56,18733,2.25\n",
      "Country57,5623,4.83\n",
      "Country58,13962,2.89\n",
      "Country59,18851,3.85\n",
      "Country60,9051,1.61\n",
      "Country61,6241,3.92\n",
      "Country62,15903,3.59\n",
      "Country63,14013,1.86\n",
      "Country64,9403,1.75\n",
      "Country65,6198,4.23\n",
      "Country66,18460,3.99\n",
      "Country67,7997,3.70\n",
      "Country68,10661,2.11\n",
      "Country69,15787,1.70\n",
      "Country70,5807,3.82\n",
      "Country71,16657,2.85\n",
      "Country72,7121,4.36\n",
      "Country73,17585,1.82\n",
      "Country74,13067,1.66\n",
      "Country75,8886,1.50\n",
      "Country76,13922,3.89\n",
      "Country77,11066,1.12\n",
      "Country78,14987,3.99\n",
      "Country79,6823,1.37\n",
      "Country80,16658,1.87\n",
      "Country81,16803,4.00\n",
      "Country82,17717,3.93\n",
      "Country83,5199,1.18\n",
      "Country84,6447,1.84\n",
      "Country85,10181,2.15\n",
      "Country86,15581,3.71\n",
      "Country87,18153,1.25\n",
      "Country88,16308,3.22\n",
      "Country89,16042,1.04\n",
      "Country90,15146,4.33\n",
      "Country91,10208,4.94\n",
      "Country92,11177,3.81\n",
      "Country93,19981,1.73\n",
      "Country94,19568,3.05\n",
      "Country95,9863,3.32\n",
      "Country96,11180,4.15\n",
      "Country97,6792,3.43\n",
      "Country98,6483,1.87\n",
      "Country99,19626,2.82\n",
      "Country100,13389,4.52\n"
     ]
    }
   ],
   "source": [
    "import numpy as np\n",
    "\n",
    "try:\n",
    "    # Згенеруємо випадкові дані для ВВП на душу населення і інфляційних ставок\n",
    "    countries = [\"Country\" + str(i) for i in range(1, 101)]\n",
    "    gdp_per_capita = np.random.randint(5000, 20000, size=100)\n",
    "    inflation_rate = np.random.uniform(1.0, 5.0, size=100)\n",
    "\n",
    "    # Створюємо структурований масив даних\n",
    "    data = np.array(list(zip(countries, gdp_per_capita, inflation_rate)),\n",
    "                    dtype=[('Country', 'U10'), ('GDP_per_Capita', 'int'), ('Inflation_Rate', 'float')])\n",
    "\n",
    "    # Зберігаємо дані у файл CSV\n",
    "    np.savetxt('economic_data.csv', data, delimiter=',', header='Country,GDP_per_Capita,Inflation_Rate', fmt='%s,%d,%.2f', comments='')\n",
    "    print(\"Економічні дані збережено в 'economic_data.csv'.\")\n",
    "except Exception as e:\n",
    "    print(f\"Виникла помилка: {str(e)}\")\n",
    "\n",
    "# Відкриття та зчитування файлу із обробкою помилок\n",
    "try:\n",
    "    with open('economic_data.csv', 'r') as file:\n",
    "        for line in file:\n",
    "            print(line.strip())\n",
    "except FileNotFoundError:\n",
    "    print(\"Файл 'economic_data.csv' не існує.\")\n",
    "except Exception as e:\n",
    "    print(f\"Під час читання файлу сталася помилка: {str(e)}\")"
   ]
  },
  {
   "cell_type": "code",
   "execution_count": null,
   "id": "6cc6d742-9bc6-4db6-9d91-853eec83096c",
   "metadata": {},
   "outputs": [],
   "source": []
  }
 ],
 "metadata": {
  "kernelspec": {
   "display_name": "Python 3 (ipykernel)",
   "language": "python",
   "name": "python3"
  },
  "language_info": {
   "codemirror_mode": {
    "name": "ipython",
    "version": 3
   },
   "file_extension": ".py",
   "mimetype": "text/x-python",
   "name": "python",
   "nbconvert_exporter": "python",
   "pygments_lexer": "ipython3",
   "version": "3.12.0"
  }
 },
 "nbformat": 4,
 "nbformat_minor": 5
}
